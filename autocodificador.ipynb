{
  "nbformat": 4,
  "nbformat_minor": 0,
  "metadata": {
    "colab": {
      "provenance": [],
      "gpuType": "T4",
      "authorship_tag": "ABX9TyM3HxZZ7sCGjy918eGK8xuh"
    },
    "kernelspec": {
      "name": "python3",
      "display_name": "Python 3"
    },
    "language_info": {
      "name": "python"
    },
    "accelerator": "GPU"
  },
  "cells": [
    {
      "cell_type": "markdown",
      "source": [
        "# AUTOENCODER\n"
      ],
      "metadata": {
        "id": "pscvN-4sOe2A"
      }
    },
    {
      "cell_type": "markdown",
      "source": [
        "Este es un decodificador de imagenes con ruido.\n",
        "**Este Autocodificador va a tomer una imagen con ruido y luego va a devolverla en perfectas condiciones para ser legible.**\n",
        "\n",
        "\n",
        "Este script corresponde a un Ejercicio de Redes Neuronales Avanzado.\n",
        "\n",
        "\n",
        "\n",
        "\n"
      ],
      "metadata": {
        "id": "hxcacJMPj0v1"
      }
    },
    {
      "cell_type": "markdown",
      "source": [
        "Importacion de los paquetes necesarios\n"
      ],
      "metadata": {
        "id": "HlBc2sKHj-3L"
      }
    },
    {
      "cell_type": "code",
      "execution_count": 2,
      "metadata": {
        "id": "DvvcujhljniF"
      },
      "outputs": [],
      "source": [
        "import tensorflow as tf\n",
        "import numpy as np\n",
        "import matplotlib.pyplot as plt\n",
        "import seaborn as sns\n",
        "import pandas as pd\n",
        "import random"
      ]
    },
    {
      "cell_type": "markdown",
      "source": [
        "Cargando los Datos\n",
        "## Se utilizo un set de datos contenido dentro de mnist, paquete TensorFlow"
      ],
      "metadata": {
        "id": "QYCqkeGokQqq"
      }
    },
    {
      "cell_type": "code",
      "source": [
        "from tensorflow.keras.datasets import mnist\n",
        "(X_train, y_train), (X_test, y_test) = mnist.load_data()"
      ],
      "metadata": {
        "id": "PeF0GyJ1kPUC",
        "colab": {
          "base_uri": "https://localhost:8080/"
        },
        "outputId": "6ad14abf-7d8b-413e-fc56-424f970b1f1d"
      },
      "execution_count": 3,
      "outputs": [
        {
          "output_type": "stream",
          "name": "stdout",
          "text": [
            "Downloading data from https://storage.googleapis.com/tensorflow/tf-keras-datasets/mnist.npz\n",
            "11490434/11490434 [==============================] - 3s 0us/step\n"
          ]
        }
      ]
    },
    {
      "cell_type": "markdown",
      "source": [
        "Visualizacion de los datos\n"
      ],
      "metadata": {
        "id": "Lx0rVRHBkcYW"
      }
    },
    {
      "cell_type": "code",
      "source": [
        "X_test.shape"
      ],
      "metadata": {
        "colab": {
          "base_uri": "https://localhost:8080/"
        },
        "id": "OiNRDnPPkfBL",
        "outputId": "5ad07a42-1d18-4104-c931-8d4e66dad440"
      },
      "execution_count": 4,
      "outputs": [
        {
          "output_type": "execute_result",
          "data": {
            "text/plain": [
              "(10000, 28, 28)"
            ]
          },
          "metadata": {},
          "execution_count": 4
        }
      ]
    },
    {
      "cell_type": "code",
      "source": [
        "X_train.shape"
      ],
      "metadata": {
        "colab": {
          "base_uri": "https://localhost:8080/"
        },
        "id": "WZzYAW8mkpxu",
        "outputId": "119e0a6c-bb34-4c66-cd70-343b679c0dc5"
      },
      "execution_count": 5,
      "outputs": [
        {
          "output_type": "execute_result",
          "data": {
            "text/plain": [
              "(60000, 28, 28)"
            ]
          },
          "metadata": {},
          "execution_count": 5
        }
      ]
    },
    {
      "cell_type": "markdown",
      "source": [
        "###Seleccionando Imagen Aleatoria\n"
      ],
      "metadata": {
        "id": "X6Kl6hxpkvTW"
      }
    },
    {
      "cell_type": "code",
      "source": [
        "i = random.randint(1,60000)\n",
        "plt.imshow(X_train[i], cmap='gray')\n",
        "plt.show()"
      ],
      "metadata": {
        "colab": {
          "base_uri": "https://localhost:8080/",
          "height": 430
        },
        "id": "-oAUt2gikxpq",
        "outputId": "1dc4c4ee-d4bc-4ed5-ab24-acfd5bebdfd3"
      },
      "execution_count": 6,
      "outputs": [
        {
          "output_type": "display_data",
          "data": {
            "text/plain": [
              "<Figure size 640x480 with 1 Axes>"
            ],
            "image/png": "[encoded data removed]"
          },
          "metadata": {}
        }
      ]
    },
    {
      "cell_type": "markdown",
      "source": [
        "##Busqueda de las \"Etiquetas\" de las imagenes o Labels"
      ],
      "metadata": {
        "id": "RZAFL_cBk-20"
      }
    },
    {
      "cell_type": "code",
      "source": [
        "label = y_train[i]\n",
        "print(label)"
      ],
      "metadata": {
        "colab": {
          "base_uri": "https://localhost:8080/"
        },
        "id": "M3jCtadslD_7",
        "outputId": "fd7b55ba-2d0e-4a5b-da5d-bdb236958e7e"
      },
      "execution_count": 7,
      "outputs": [
        {
          "output_type": "stream",
          "name": "stdout",
          "text": [
            "6\n"
          ]
        }
      ]
    },
    {
      "cell_type": "markdown",
      "source": [
        "#Agregando Ruido a las imagenes"
      ],
      "metadata": {
        "id": "AVprMpdolLdf"
      }
    },
    {
      "cell_type": "markdown",
      "source": [
        "#Normalizando imagenes\n"
      ],
      "metadata": {
        "id": "iIRCPLJilzfT"
      }
    },
    {
      "cell_type": "code",
      "source": [
        "X_train = X_train / 255\n",
        "X_test = X_test / 255"
      ],
      "metadata": {
        "id": "7ICAfcvVluj8"
      },
      "execution_count": 8,
      "outputs": []
    },
    {
      "cell_type": "markdown",
      "source": [
        "##Agregando Ruido propiamente\n",
        "Se sige teniendo en cuenta el Shape original de las imagenes del set de datos\n"
      ],
      "metadata": {
        "id": "xrOd9yQMmISy"
      }
    },
    {
      "cell_type": "code",
      "source": [
        "agregando_ruido = np.random.randn(*(28,28))\n",
        "factor_ruido = 0.3\n",
        "agregando_ruido = factor_ruido * np.random.randn(*(28,28))"
      ],
      "metadata": {
        "id": "oLcPg7cHmHnA"
      },
      "execution_count": 9,
      "outputs": []
    },
    {
      "cell_type": "code",
      "source": [
        "plt.imshow(agregando_ruido)"
      ],
      "metadata": {
        "colab": {
          "base_uri": "https://localhost:8080/",
          "height": 447
        },
        "id": "cz_cp7PKmxb7",
        "outputId": "2da0be06-b030-4db0-ed0b-fbfa7125df44"
      },
      "execution_count": 10,
      "outputs": [
        {
          "output_type": "execute_result",
          "data": {
            "text/plain": [
              "<matplotlib.image.AxesImage at 0x7f3c8a488910>"
            ]
          },
          "metadata": {},
          "execution_count": 10
        },
        {
          "output_type": "display_data",
          "data": {
            "text/plain": [
              "<Figure size 640x480 with 1 Axes>"
            ],
            "image/png": "[encoded data removed]"
          },
          "metadata": {}
        }
      ]
    },
    {
      "cell_type": "markdown",
      "source": [
        "# Tomando una imagen aleatoria y agregandole ruido, a modo de prueba"
      ],
      "metadata": {
        "id": "u5vE9tZTnLUl"
      }
    },
    {
      "cell_type": "code",
      "source": [
        "factor_ruido = 0.2\n",
        "imagen_ejemplo = X_train[i]\n",
        "imagen_ruidosa = imagen_ejemplo + factor_ruido * np.random.randn(*(28,28))\n",
        "plt.imshow(imagen_ruidosa, cmap='gray')"
      ],
      "metadata": {
        "colab": {
          "base_uri": "https://localhost:8080/",
          "height": 447
        },
        "id": "lJq-DC4YnaxM",
        "outputId": "8c4c08da-912d-4502-a857-d3606c0d2154"
      },
      "execution_count": 11,
      "outputs": [
        {
          "output_type": "execute_result",
          "data": {
            "text/plain": [
              "<matplotlib.image.AxesImage at 0x7f3c893ef760>"
            ]
          },
          "metadata": {},
          "execution_count": 11
        },
        {
          "output_type": "display_data",
          "data": {
            "text/plain": [
              "<Figure size 640x480 with 1 Axes>"
            ],
            "image/png": "[encoded data removed]"
          },
          "metadata": {}
        }
      ]
    },
    {
      "cell_type": "markdown",
      "source": [
        "##Modificando rango de las imagenes de 0 a 1, esto para evitar prblemas con el aprendizaje de la Red"
      ],
      "metadata": {
        "id": "oGx9rpNqn7WW"
      }
    },
    {
      "cell_type": "code",
      "source": [
        "imagen_ruidosa.max()"
      ],
      "metadata": {
        "colab": {
          "base_uri": "https://localhost:8080/"
        },
        "id": "0ddTnfIWoDGl",
        "outputId": "f8531d99-0260-43c2-ebaf-c1cb4e445fe8"
      },
      "execution_count": 12,
      "outputs": [
        {
          "output_type": "execute_result",
          "data": {
            "text/plain": [
              "1.5158966204447355"
            ]
          },
          "metadata": {},
          "execution_count": 12
        }
      ]
    },
    {
      "cell_type": "code",
      "source": [
        "imagen_ruidosa.min()"
      ],
      "metadata": {
        "colab": {
          "base_uri": "https://localhost:8080/"
        },
        "id": "7rUsc2ssoKVO",
        "outputId": "967207bd-059d-439e-8459-80683250842f"
      },
      "execution_count": 13,
      "outputs": [
        {
          "output_type": "execute_result",
          "data": {
            "text/plain": [
              "-0.6193226096212756"
            ]
          },
          "metadata": {},
          "execution_count": 13
        }
      ]
    },
    {
      "cell_type": "code",
      "source": [
        "imagen_ruidosa = np.clip(imagen_ruidosa , 0. , 1.)"
      ],
      "metadata": {
        "id": "C1FUo-i5oNQG"
      },
      "execution_count": 14,
      "outputs": []
    },
    {
      "cell_type": "code",
      "source": [
        "print(f\"El rango de las imagenes se encuentra en {imagen_ruidosa.min() , {imagen_ruidosa.max()}}\")"
      ],
      "metadata": {
        "colab": {
          "base_uri": "https://localhost:8080/"
        },
        "id": "N24bLAa6ocE7",
        "outputId": "c59f4c61-152b-4287-ca49-0a645a7f9cf8"
      },
      "execution_count": 15,
      "outputs": [
        {
          "output_type": "stream",
          "name": "stdout",
          "text": [
            "El rango de las imagenes se encuentra en (0.0, {1.0})\n"
          ]
        }
      ]
    },
    {
      "cell_type": "markdown",
      "source": [
        "##Aplicando transformaciones a todas las imagenes del set de datos"
      ],
      "metadata": {
        "id": "d8FPH4V2oyOb"
      }
    },
    {
      "cell_type": "code",
      "source": [
        "X_train_ruido = []\n",
        "factor_ruido = 0.2\n",
        "for imagen in X_train:\n",
        "  imagen_ruidosa = imagen_ejemplo + factor_ruido * np.random.randn(*(28,28))\n",
        "  imagen_ruidosa = np.clip(imagen_ruidosa , 0. , 1.)\n",
        "  X_train_ruido.append(imagen_ruidosa)"
      ],
      "metadata": {
        "id": "nVht3WnqoxOj"
      },
      "execution_count": 16,
      "outputs": []
    },
    {
      "cell_type": "markdown",
      "source": [
        "#Transformando set de imagenes con ruido a una matriz, haciendo uso de Numpy\n"
      ],
      "metadata": {
        "id": "cmZOtyCmpXDT"
      }
    },
    {
      "cell_type": "code",
      "source": [
        "X_train_ruido = np.array(X_train_ruido)"
      ],
      "metadata": {
        "id": "CWydr3TDpdAH"
      },
      "execution_count": 17,
      "outputs": []
    },
    {
      "cell_type": "code",
      "source": [
        "plt.imshow(X_train_ruido[i], cmap='gray')"
      ],
      "metadata": {
        "colab": {
          "base_uri": "https://localhost:8080/",
          "height": 447
        },
        "id": "78zExFlzpnMR",
        "outputId": "74ce70c4-e895-4d1d-8f31-a2780eb965fb"
      },
      "execution_count": 18,
      "outputs": [
        {
          "output_type": "execute_result",
          "data": {
            "text/plain": [
              "<matplotlib.image.AxesImage at 0x7f3c89abf5e0>"
            ]
          },
          "metadata": {},
          "execution_count": 18
        },
        {
          "output_type": "display_data",
          "data": {
            "text/plain": [
              "<Figure size 640x480 with 1 Axes>"
            ],
            "image/png": "[encoded data removed]"
          },
          "metadata": {}
        }
      ]
    },
    {
      "cell_type": "markdown",
      "source": [
        "##Aplicando conversion de imagenes para el set de datos de entrenamiento\n",
        "Lo que se busca es que la red aprenda de la mejor manera, para eso voy a colocar el ruido en un factor mas elevado."
      ],
      "metadata": {
        "id": "jR6DFcr2p0xX"
      }
    },
    {
      "cell_type": "code",
      "source": [
        "X_test_ruido = []\n",
        "factor_ruido = 0.4"
      ],
      "metadata": {
        "id": "qQULUYxGqCK-"
      },
      "execution_count": 19,
      "outputs": []
    },
    {
      "cell_type": "code",
      "source": [
        "for imagen_ejemplo in X_test:\n",
        "  imagen_ruidosa = imagen_ejemplo + factor_ruido * np.random.randn(*(28,28))\n",
        "  imagen_ruidosa = np.clip(imagen_ruidosa , 0. , 1.)\n",
        "  X_test_ruido.append(imagen_ruidosa)"
      ],
      "metadata": {
        "id": "USARhtnEqJ8V"
      },
      "execution_count": 20,
      "outputs": []
    },
    {
      "cell_type": "code",
      "source": [
        "X_test_ruido = np.array(X_test_ruido)"
      ],
      "metadata": {
        "id": "frnFhypSqYk9"
      },
      "execution_count": 21,
      "outputs": []
    },
    {
      "cell_type": "code",
      "source": [
        "X_test_ruido.shape"
      ],
      "metadata": {
        "colab": {
          "base_uri": "https://localhost:8080/"
        },
        "id": "UdwHmjU-qhi3",
        "outputId": "f126cf24-acd2-4f3e-b910-861e63ed6ce1"
      },
      "execution_count": 22,
      "outputs": [
        {
          "output_type": "execute_result",
          "data": {
            "text/plain": [
              "(10000, 28, 28)"
            ]
          },
          "metadata": {},
          "execution_count": 22
        }
      ]
    },
    {
      "cell_type": "code",
      "source": [
        "plt.imshow(X_test_ruido[10], cmap='gray')"
      ],
      "metadata": {
        "colab": {
          "base_uri": "https://localhost:8080/",
          "height": 447
        },
        "id": "GfV-uO5MqoCn",
        "outputId": "7a9a3929-08be-4c8b-f3ba-54e4c6929377"
      },
      "execution_count": 23,
      "outputs": [
        {
          "output_type": "execute_result",
          "data": {
            "text/plain": [
              "<matplotlib.image.AxesImage at 0x7f3c89b3a0e0>"
            ]
          },
          "metadata": {},
          "execution_count": 23
        },
        {
          "output_type": "display_data",
          "data": {
            "text/plain": [
              "<Figure size 640x480 with 1 Axes>"
            ],
            "image/png": "[encoded data removed]"
          },
          "metadata": {}
        }
      ]
    },
    {
      "cell_type": "markdown",
      "source": [
        "#Creando el Modelo\n",
        "\n",
        "Modelo secuencial de la liblioteca Keras"
      ],
      "metadata": {
        "id": "ufRdc5cEq0Yx"
      }
    },
    {
      "cell_type": "code",
      "source": [
        "autoencoder = tf.keras.models.Sequential()"
      ],
      "metadata": {
        "id": "fwdFHLZrtU0H"
      },
      "execution_count": 24,
      "outputs": []
    },
    {
      "cell_type": "markdown",
      "source": [
        "Armando la capa convolucional"
      ],
      "metadata": {
        "id": "2HDG7_Dctfbb"
      }
    },
    {
      "cell_type": "code",
      "source": [
        "autoencoder.add(tf.keras.layers.Conv2D(filters=16,\n",
        "                                       kernel_size=(3,3),\n",
        "                                       padding = 'same',\n",
        "                                       strides=1,\n",
        "                                       input_shape=(28,28,1)))"
      ],
      "metadata": {
        "id": "i8UdPOwgtiJi"
      },
      "execution_count": 25,
      "outputs": []
    },
    {
      "cell_type": "code",
      "source": [
        "autoencoder.add(tf.keras.layers.MaxPooling2D((2,2), padding= \"same\"))"
      ],
      "metadata": {
        "id": "kJmKD75luG5U"
      },
      "execution_count": 26,
      "outputs": []
    },
    {
      "cell_type": "code",
      "source": [
        "autoencoder.add(tf.keras.layers.Conv2D(8, (3,3) , padding='same'))\n",
        "autoencoder.add(tf.keras.layers.MaxPooling2D((2,2), padding= \"same\"))"
      ],
      "metadata": {
        "id": "s1GEiayCudqz"
      },
      "execution_count": 27,
      "outputs": []
    },
    {
      "cell_type": "markdown",
      "source": [
        "##Imagen Codificada\n"
      ],
      "metadata": {
        "id": "rJcv9k-1utCg"
      }
    },
    {
      "cell_type": "code",
      "source": [
        "autoencoder.add(tf.keras.layers.Conv2D(8,(3,3), strides = 1 , padding=\"same\"))"
      ],
      "metadata": {
        "id": "JZctGLXGusnj"
      },
      "execution_count": 28,
      "outputs": []
    },
    {
      "cell_type": "markdown",
      "source": [
        "# Imagen Decodificada"
      ],
      "metadata": {
        "id": "ZCesZ3V-vc_0"
      }
    },
    {
      "cell_type": "code",
      "source": [
        "autoencoder.add(tf.keras.layers.UpSampling2D((2,2)))"
      ],
      "metadata": {
        "id": "-lrzSRXdve6t"
      },
      "execution_count": 29,
      "outputs": []
    },
    {
      "cell_type": "code",
      "source": [
        "autoencoder.add(tf.keras.layers.Conv2DTranspose(8,(3,3), strides = 1 , padding=\"same\"))"
      ],
      "metadata": {
        "id": "UsfNo_1Lvp_u"
      },
      "execution_count": 30,
      "outputs": []
    },
    {
      "cell_type": "code",
      "source": [
        "autoencoder.add(tf.keras.layers.UpSampling2D((2,2)))"
      ],
      "metadata": {
        "id": "4Pg49UlSv3NH"
      },
      "execution_count": 31,
      "outputs": []
    },
    {
      "cell_type": "markdown",
      "source": [
        "#Utilizando Funcion Sigmoid como activacion\n",
        "En este caso, se aplica a la capa de salida solamente.\n"
      ],
      "metadata": {
        "id": "vRZJvmyVv-jK"
      }
    },
    {
      "cell_type": "code",
      "source": [
        "autoencoder.add(tf.keras.layers.Conv2DTranspose(1,(3,3), strides = 1 , activation=\"sigmoid\" , padding=\"same\"))"
      ],
      "metadata": {
        "id": "g0Vf-YhHwPV9"
      },
      "execution_count": 32,
      "outputs": []
    },
    {
      "cell_type": "markdown",
      "source": [
        "# Compilando el Modelo"
      ],
      "metadata": {
        "id": "-0SN00qOwqs4"
      }
    },
    {
      "cell_type": "markdown",
      "source": [
        "Binary cross entropy y adam como funcion de perdida.\n",
        "Tasa de Aprendizaje : 0,001"
      ],
      "metadata": {
        "id": "VMDQ58rZwu1p"
      }
    },
    {
      "cell_type": "code",
      "source": [
        "autoencoder.compile(loss='binary_crossentropy',\n",
        "              optimizer=tf.keras.optimizers.Adam(learning_rate=0.001),\n",
        "              metrics=['accuracy'])"
      ],
      "metadata": {
        "id": "VghLzDVqwqfW"
      },
      "execution_count": 33,
      "outputs": []
    },
    {
      "cell_type": "markdown",
      "source": [
        "##Mostrando Resumen del Modelo"
      ],
      "metadata": {
        "id": "CV1DrJ0pxY71"
      }
    },
    {
      "cell_type": "code",
      "source": [
        "autoencoder.summary()"
      ],
      "metadata": {
        "colab": {
          "base_uri": "https://localhost:8080/"
        },
        "id": "HSgxBn5XxSlH",
        "outputId": "068dae5a-5d78-4439-9007-d5c747d86fdb"
      },
      "execution_count": 34,
      "outputs": [
        {
          "output_type": "stream",
          "name": "stdout",
          "text": [
            "Model: \"sequential\"\n",
            "_________________________________________________________________\n",
            " Layer (type)                Output Shape              Param #   \n",
            "=================================================================\n",
            " conv2d (Conv2D)             (None, 28, 28, 16)        160       \n",
            "                                                                 \n",
            " max_pooling2d (MaxPooling2  (None, 14, 14, 16)        0         \n",
            " D)                                                              \n",
            "                                                                 \n",
            " conv2d_1 (Conv2D)           (None, 14, 14, 8)         1160      \n",
            "                                                                 \n",
            " max_pooling2d_1 (MaxPoolin  (None, 7, 7, 8)           0         \n",
            " g2D)                                                            \n",
            "                                                                 \n",
            " conv2d_2 (Conv2D)           (None, 7, 7, 8)           584       \n",
            "                                                                 \n",
            " up_sampling2d (UpSampling2  (None, 14, 14, 8)         0         \n",
            " D)                                                              \n",
            "                                                                 \n",
            " conv2d_transpose (Conv2DTr  (None, 14, 14, 8)         584       \n",
            " anspose)                                                        \n",
            "                                                                 \n",
            " up_sampling2d_1 (UpSamplin  (None, 28, 28, 8)         0         \n",
            " g2D)                                                            \n",
            "                                                                 \n",
            " conv2d_transpose_1 (Conv2D  (None, 28, 28, 1)         73        \n",
            " Transpose)                                                      \n",
            "                                                                 \n",
            "=================================================================\n",
            "Total params: 2561 (10.00 KB)\n",
            "Trainable params: 2561 (10.00 KB)\n",
            "Non-trainable params: 0 (0.00 Byte)\n",
            "_________________________________________________________________\n"
          ]
        }
      ]
    },
    {
      "cell_type": "markdown",
      "source": [
        "#Comenzando el Entrenamiento del Modelo"
      ],
      "metadata": {
        "id": "EYGnM4qmxdKP"
      }
    },
    {
      "cell_type": "code",
      "source": [
        "autoencoder.fit(X_train_ruido.reshape(-1,28,28,1), X_train.reshape(-1,28,28,1),\n",
        "                epochs=10,\n",
        "                batch_size=200)\n"
      ],
      "metadata": {
        "colab": {
          "base_uri": "https://localhost:8080/"
        },
        "id": "Y06xpy22xcfy",
        "outputId": "b6e8d5e5-4347-4bcb-cf69-f5546bd0d15e"
      },
      "execution_count": 35,
      "outputs": [
        {
          "output_type": "stream",
          "name": "stdout",
          "text": [
            "Epoch 1/10\n",
            "300/300 [==============================] - 18s 6ms/step - loss: 0.3376 - accuracy: 0.7898\n",
            "Epoch 2/10\n",
            "300/300 [==============================] - 2s 6ms/step - loss: 0.2694 - accuracy: 0.7979\n",
            "Epoch 3/10\n",
            "300/300 [==============================] - 2s 6ms/step - loss: 0.2672 - accuracy: 0.7992\n",
            "Epoch 4/10\n",
            "300/300 [==============================] - 2s 5ms/step - loss: 0.2660 - accuracy: 0.8003\n",
            "Epoch 5/10\n",
            "300/300 [==============================] - 2s 6ms/step - loss: 0.2653 - accuracy: 0.8010\n",
            "Epoch 6/10\n",
            "300/300 [==============================] - 3s 9ms/step - loss: 0.2652 - accuracy: 0.8010\n",
            "Epoch 7/10\n",
            "300/300 [==============================] - 3s 11ms/step - loss: 0.2649 - accuracy: 0.8010\n",
            "Epoch 8/10\n",
            "300/300 [==============================] - 2s 8ms/step - loss: 0.2646 - accuracy: 0.8015\n",
            "Epoch 9/10\n",
            "300/300 [==============================] - 3s 10ms/step - loss: 0.2643 - accuracy: 0.8018\n",
            "Epoch 10/10\n",
            "300/300 [==============================] - 2s 8ms/step - loss: 0.2643 - accuracy: 0.8016\n"
          ]
        },
        {
          "output_type": "execute_result",
          "data": {
            "text/plain": [
              "<keras.src.callbacks.History at 0x7f3c898c9cf0>"
            ]
          },
          "metadata": {},
          "execution_count": 35
        }
      ]
    },
    {
      "cell_type": "markdown",
      "source": [
        "## Realizando la evalacion del entrenamiento del modelo\n"
      ],
      "metadata": {
        "id": "F5xZindkECf7"
      }
    },
    {
      "cell_type": "code",
      "source": [
        "sin_ruido = autoencoder.predict(X_test_ruido[:15].reshape(-1,28,28,1))"
      ],
      "metadata": {
        "colab": {
          "base_uri": "https://localhost:8080/"
        },
        "id": "6akIxLaMECPJ",
        "outputId": "be443c8c-18bd-48c2-80c8-aaca735f2969"
      },
      "execution_count": 36,
      "outputs": [
        {
          "output_type": "stream",
          "name": "stdout",
          "text": [
            "1/1 [==============================] - 1s 1s/step\n"
          ]
        }
      ]
    },
    {
      "cell_type": "markdown",
      "source": [
        "## Mostrando formato de la imagen predicha por el modelo\n"
      ],
      "metadata": {
        "id": "YO3XnB-nN0uq"
      }
    },
    {
      "cell_type": "code",
      "source": [
        "sin_ruido.shape"
      ],
      "metadata": {
        "colab": {
          "base_uri": "https://localhost:8080/"
        },
        "id": "p3B_5sBkMi00",
        "outputId": "8160770d-a44c-43e2-ce6c-53e9f49b902e"
      },
      "execution_count": 37,
      "outputs": [
        {
          "output_type": "execute_result",
          "data": {
            "text/plain": [
              "(15, 28, 28, 1)"
            ]
          },
          "metadata": {},
          "execution_count": 37
        }
      ]
    },
    {
      "cell_type": "markdown",
      "source": [
        "## Mostrando todas las imagenes con ruido y la prediccion del modelo sobre a que numero corresponde la imagen borrosa\n",
        "\n",
        "El porcentaje de acierto en las imagenes del modelo es de -> 0.8016, este numero se puede mejorar agregando mas capas convolucionales para el tratamiento de las imagenes, esto a costas del tiempo de espera para el entrenamiento de la Red"
      ],
      "metadata": {
        "id": "jP9dyUUsN8Xa"
      }
    },
    {
      "cell_type": "code",
      "source": [
        "fig , axes = plt.subplots(nrows=2 , ncols=15 , figsize=(30,6))\n",
        "for imagen , fila in zip([X_test_ruido[:15],sin_ruido], axes):\n",
        "  for imagen, ax in zip(imagen, fila):\n",
        "    ax.imshow(imagen.reshape(28,28), cmap='gray')\n",
        ""
      ],
      "metadata": {
        "colab": {
          "base_uri": "https://localhost:8080/",
          "height": 226
        },
        "id": "3tYn0TrdMolO",
        "outputId": "353d4380-5efb-456c-8e2e-781cd3084822"
      },
      "execution_count": 38,
      "outputs": [
        {
          "output_type": "display_data",
          "data": {
            "text/plain": [
              "<Figure size 3000x600 with 30 Axes>"
            ],
            "image/png": "[encoded data removed]"
          },
          "metadata": {}
        }
      ]
    },
    {
      "cell_type": "markdown",
      "source": [
        "#*En conclusion , este modelo es capaz de reconocer imagenes con ruido y luego mostrar de que imagen se trata*"
      ],
      "metadata": {
        "id": "Rz4VBPIFNiF3"
      }
    }
  ]
}